{
  "nbformat": 4,
  "nbformat_minor": 0,
  "metadata": {
    "colab": {
      "provenance": [],
      "authorship_tag": "ABX9TyNavB7GejHSsnNzJldpnVZ+",
      "include_colab_link": true
    },
    "kernelspec": {
      "name": "python3",
      "display_name": "Python 3"
    },
    "language_info": {
      "name": "python"
    },
    "widgets": {
      "application/vnd.jupyter.widget-state+json": {
        "b826cfab68be4b628ee2d398e36adfe7": {
          "model_module": "@jupyter-widgets/controls",
          "model_name": "LabelModel",
          "model_module_version": "1.5.0",
          "state": {
            "_dom_classes": [],
            "_model_module": "@jupyter-widgets/controls",
            "_model_module_version": "1.5.0",
            "_model_name": "LabelModel",
            "_view_count": null,
            "_view_module": "@jupyter-widgets/controls",
            "_view_module_version": "1.5.0",
            "_view_name": "LabelView",
            "description": "",
            "description_tooltip": null,
            "layout": "IPY_MODEL_9bbfbf0fef9b419cbe68c24db3c63903",
            "placeholder": "​",
            "style": "IPY_MODEL_3bc3042402144874b1b94e423c3c849a",
            "value": "ห"
          }
        },
        "9bbfbf0fef9b419cbe68c24db3c63903": {
          "model_module": "@jupyter-widgets/base",
          "model_name": "LayoutModel",
          "model_module_version": "1.2.0",
          "state": {
            "_model_module": "@jupyter-widgets/base",
            "_model_module_version": "1.2.0",
            "_model_name": "LayoutModel",
            "_view_count": null,
            "_view_module": "@jupyter-widgets/base",
            "_view_module_version": "1.2.0",
            "_view_name": "LayoutView",
            "align_content": null,
            "align_items": null,
            "align_self": null,
            "border": null,
            "bottom": null,
            "display": null,
            "flex": null,
            "flex_flow": null,
            "grid_area": null,
            "grid_auto_columns": null,
            "grid_auto_flow": null,
            "grid_auto_rows": null,
            "grid_column": null,
            "grid_gap": null,
            "grid_row": null,
            "grid_template_areas": null,
            "grid_template_columns": null,
            "grid_template_rows": null,
            "height": null,
            "justify_content": null,
            "justify_items": null,
            "left": null,
            "margin": null,
            "max_height": null,
            "max_width": null,
            "min_height": null,
            "min_width": null,
            "object_fit": null,
            "object_position": null,
            "order": null,
            "overflow": null,
            "overflow_x": null,
            "overflow_y": null,
            "padding": null,
            "right": null,
            "top": null,
            "visibility": null,
            "width": null
          }
        },
        "3bc3042402144874b1b94e423c3c849a": {
          "model_module": "@jupyter-widgets/controls",
          "model_name": "DescriptionStyleModel",
          "model_module_version": "1.5.0",
          "state": {
            "_model_module": "@jupyter-widgets/controls",
            "_model_module_version": "1.5.0",
            "_model_name": "DescriptionStyleModel",
            "_view_count": null,
            "_view_module": "@jupyter-widgets/base",
            "_view_module_version": "1.2.0",
            "_view_name": "StyleView",
            "description_width": ""
          }
        },
        "6a55e6e908624d98a6cf20bcd3c490bc": {
          "model_module": "@jupyter-widgets/controls",
          "model_name": "ButtonModel",
          "model_module_version": "1.5.0",
          "state": {
            "_dom_classes": [],
            "_model_module": "@jupyter-widgets/controls",
            "_model_module_version": "1.5.0",
            "_model_name": "ButtonModel",
            "_view_count": null,
            "_view_module": "@jupyter-widgets/controls",
            "_view_module_version": "1.5.0",
            "_view_name": "ButtonView",
            "button_style": "",
            "description": "Flip",
            "disabled": false,
            "icon": "",
            "layout": "IPY_MODEL_0daa25a6a0b04316a1c3bedb2a358fe5",
            "style": "IPY_MODEL_d43744133f7343bb9a5224d6d4cdf019",
            "tooltip": ""
          }
        },
        "0daa25a6a0b04316a1c3bedb2a358fe5": {
          "model_module": "@jupyter-widgets/base",
          "model_name": "LayoutModel",
          "model_module_version": "1.2.0",
          "state": {
            "_model_module": "@jupyter-widgets/base",
            "_model_module_version": "1.2.0",
            "_model_name": "LayoutModel",
            "_view_count": null,
            "_view_module": "@jupyter-widgets/base",
            "_view_module_version": "1.2.0",
            "_view_name": "LayoutView",
            "align_content": null,
            "align_items": null,
            "align_self": null,
            "border": null,
            "bottom": null,
            "display": null,
            "flex": null,
            "flex_flow": null,
            "grid_area": null,
            "grid_auto_columns": null,
            "grid_auto_flow": null,
            "grid_auto_rows": null,
            "grid_column": null,
            "grid_gap": null,
            "grid_row": null,
            "grid_template_areas": null,
            "grid_template_columns": null,
            "grid_template_rows": null,
            "height": null,
            "justify_content": null,
            "justify_items": null,
            "left": null,
            "margin": null,
            "max_height": null,
            "max_width": null,
            "min_height": null,
            "min_width": null,
            "object_fit": null,
            "object_position": null,
            "order": null,
            "overflow": null,
            "overflow_x": null,
            "overflow_y": null,
            "padding": null,
            "right": null,
            "top": null,
            "visibility": null,
            "width": null
          }
        },
        "d43744133f7343bb9a5224d6d4cdf019": {
          "model_module": "@jupyter-widgets/controls",
          "model_name": "ButtonStyleModel",
          "model_module_version": "1.5.0",
          "state": {
            "_model_module": "@jupyter-widgets/controls",
            "_model_module_version": "1.5.0",
            "_model_name": "ButtonStyleModel",
            "_view_count": null,
            "_view_module": "@jupyter-widgets/base",
            "_view_module_version": "1.2.0",
            "_view_name": "StyleView",
            "button_color": null,
            "font_weight": ""
          }
        },
        "4456167b778e48bfba1c13dc389ec7d1": {
          "model_module": "@jupyter-widgets/controls",
          "model_name": "ButtonModel",
          "model_module_version": "1.5.0",
          "state": {
            "_dom_classes": [],
            "_model_module": "@jupyter-widgets/controls",
            "_model_module_version": "1.5.0",
            "_model_name": "ButtonModel",
            "_view_count": null,
            "_view_module": "@jupyter-widgets/controls",
            "_view_module_version": "1.5.0",
            "_view_name": "ButtonView",
            "button_style": "",
            "description": "Next",
            "disabled": false,
            "icon": "",
            "layout": "IPY_MODEL_ec0135ab4e5344e0be389f3b9bc07255",
            "style": "IPY_MODEL_0d44c344ced84b419eec59fb457fcebe",
            "tooltip": ""
          }
        },
        "ec0135ab4e5344e0be389f3b9bc07255": {
          "model_module": "@jupyter-widgets/base",
          "model_name": "LayoutModel",
          "model_module_version": "1.2.0",
          "state": {
            "_model_module": "@jupyter-widgets/base",
            "_model_module_version": "1.2.0",
            "_model_name": "LayoutModel",
            "_view_count": null,
            "_view_module": "@jupyter-widgets/base",
            "_view_module_version": "1.2.0",
            "_view_name": "LayoutView",
            "align_content": null,
            "align_items": null,
            "align_self": null,
            "border": null,
            "bottom": null,
            "display": null,
            "flex": null,
            "flex_flow": null,
            "grid_area": null,
            "grid_auto_columns": null,
            "grid_auto_flow": null,
            "grid_auto_rows": null,
            "grid_column": null,
            "grid_gap": null,
            "grid_row": null,
            "grid_template_areas": null,
            "grid_template_columns": null,
            "grid_template_rows": null,
            "height": null,
            "justify_content": null,
            "justify_items": null,
            "left": null,
            "margin": null,
            "max_height": null,
            "max_width": null,
            "min_height": null,
            "min_width": null,
            "object_fit": null,
            "object_position": null,
            "order": null,
            "overflow": null,
            "overflow_x": null,
            "overflow_y": null,
            "padding": null,
            "right": null,
            "top": null,
            "visibility": null,
            "width": null
          }
        },
        "0d44c344ced84b419eec59fb457fcebe": {
          "model_module": "@jupyter-widgets/controls",
          "model_name": "ButtonStyleModel",
          "model_module_version": "1.5.0",
          "state": {
            "_model_module": "@jupyter-widgets/controls",
            "_model_module_version": "1.5.0",
            "_model_name": "ButtonStyleModel",
            "_view_count": null,
            "_view_module": "@jupyter-widgets/base",
            "_view_module_version": "1.2.0",
            "_view_name": "StyleView",
            "button_color": null,
            "font_weight": ""
          }
        }
      }
    }
  },
  "cells": [
    {
      "cell_type": "markdown",
      "metadata": {
        "id": "view-in-github",
        "colab_type": "text"
      },
      "source": [
        "<a href=\"https://colab.research.google.com/github/tannyachcha27/chula_eng/blob/main/thaicons_py.ipynb\" target=\"_parent\"><img src=\"https://colab.research.google.com/assets/colab-badge.svg\" alt=\"Open In Colab\"/></a>"
      ]
    },
    {
      "cell_type": "code",
      "source": [
        "import random\n",
        "import ipywidgets as widgets\n",
        "from IPython.display import display, clear_output\n",
        "\n",
        "# All Thai consonants and their names\n",
        "thai_consonants = [\n",
        "    (\"ก\", \"gor gai\"), (\"ข\", \"kho khai\"), (\"ฃ\", \"kho khuat\"),\n",
        "    (\"ค\", \"kho khwai\"), (\"ฅ\", \"kho khon\"), (\"ฆ\", \"kho rakhang\"),\n",
        "    (\"ง\", \"ngo ngu\"), (\"จ\", \"cho chan\"), (\"ฉ\", \"cho ching\"),\n",
        "    (\"ช\", \"cho chang\"), (\"ซ\", \"so so\"), (\"ฌ\", \"cho choe\"),\n",
        "    (\"ญ\", \"yo ying\"), (\"ฎ\", \"do cha-da\"), (\"ฏ\", \"to pa-tak\"),\n",
        "    (\"ฐ\", \"tho than\"), (\"ฑ\", \"tho montho\"), (\"ฒ\", \"tho phu-thao\"),\n",
        "    (\"ณ\", \"no nen\"), (\"ด\", \"do dek\"), (\"ต\", \"to tao\"),\n",
        "    (\"ถ\", \"tho thung\"), (\"ท\", \"tho thahan\"), (\"ธ\", \"tho thong\"),\n",
        "    (\"น\", \"no nu\"), (\"บ\", \"bo baimai\"), (\"ป\", \"po pla\"),\n",
        "    (\"ผ\", \"pho phueng\"), (\"ฝ\", \"fo fa\"), (\"พ\", \"pho phan\"),\n",
        "    (\"ฟ\", \"fo fan\"), (\"ภ\", \"pho sam-phao\"), (\"ม\", \"mo ma\"),\n",
        "    (\"ย\", \"yo yak\"), (\"ร\", \"ro ruea\"), (\"ล\", \"lo ling\"),\n",
        "    (\"ว\", \"wo waen\"), (\"ศ\", \"so sala\"), (\"ษ\", \"so ruesi\"),\n",
        "    (\"ส\", \"so suea\"), (\"ห\", \"ho hip\"), (\"ฬ\", \"lo chu-la\"),\n",
        "    (\"อ\", \"o ang\"), (\"ฮ\", \"ho nok-huk\")\n",
        "]\n",
        "\n",
        "class FlashcardApp:\n",
        "    def __init__(self):\n",
        "        self.current_card = None\n",
        "        self.is_flipped = False\n",
        "\n",
        "        self.label = widgets.Label(value=\"\")\n",
        "        self.flip_button = widgets.Button(description=\"Flip\")\n",
        "        self.next_button = widgets.Button(description=\"Next\")\n",
        "\n",
        "        self.flip_button.on_click(self.flip_card)\n",
        "        self.next_button.on_click(self.next_card)\n",
        "\n",
        "        display(self.label, self.flip_button, self.next_button)\n",
        "        self.next_card()\n",
        "\n",
        "    def next_card(self, b=None):\n",
        "        self.current_card = random.choice(thai_consonants)\n",
        "        self.label.value = self.current_card[0]\n",
        "        self.is_flipped = False\n",
        "\n",
        "    def flip_card(self, b=None):\n",
        "        if self.is_flipped:\n",
        "            self.label.value = self.current_card[0]\n",
        "        else:\n",
        "            self.label.value = self.current_card[1]\n",
        "        self.is_flipped = not self.is_flipped\n",
        "\n",
        "# Run the flashcard app\n",
        "FlashcardApp()\n"
      ],
      "metadata": {
        "colab": {
          "base_uri": "https://localhost:8080/",
          "height": 131,
          "referenced_widgets": [
            "b826cfab68be4b628ee2d398e36adfe7",
            "9bbfbf0fef9b419cbe68c24db3c63903",
            "3bc3042402144874b1b94e423c3c849a",
            "6a55e6e908624d98a6cf20bcd3c490bc",
            "0daa25a6a0b04316a1c3bedb2a358fe5",
            "d43744133f7343bb9a5224d6d4cdf019",
            "4456167b778e48bfba1c13dc389ec7d1",
            "ec0135ab4e5344e0be389f3b9bc07255",
            "0d44c344ced84b419eec59fb457fcebe"
          ]
        },
        "id": "-FdqKmbte2q1",
        "outputId": "fc463002-ab1d-4dca-bc9d-3716dc497286"
      },
      "execution_count": 4,
      "outputs": [
        {
          "output_type": "display_data",
          "data": {
            "text/plain": [
              "Label(value='')"
            ],
            "application/vnd.jupyter.widget-view+json": {
              "version_major": 2,
              "version_minor": 0,
              "model_id": "b826cfab68be4b628ee2d398e36adfe7"
            }
          },
          "metadata": {}
        },
        {
          "output_type": "display_data",
          "data": {
            "text/plain": [
              "Button(description='Flip', style=ButtonStyle())"
            ],
            "application/vnd.jupyter.widget-view+json": {
              "version_major": 2,
              "version_minor": 0,
              "model_id": "6a55e6e908624d98a6cf20bcd3c490bc"
            }
          },
          "metadata": {}
        },
        {
          "output_type": "display_data",
          "data": {
            "text/plain": [
              "Button(description='Next', style=ButtonStyle())"
            ],
            "application/vnd.jupyter.widget-view+json": {
              "version_major": 2,
              "version_minor": 0,
              "model_id": "4456167b778e48bfba1c13dc389ec7d1"
            }
          },
          "metadata": {}
        },
        {
          "output_type": "execute_result",
          "data": {
            "text/plain": [
              "<__main__.FlashcardApp at 0x79bda05c5b50>"
            ]
          },
          "metadata": {},
          "execution_count": 4
        }
      ]
    }
  ]
}